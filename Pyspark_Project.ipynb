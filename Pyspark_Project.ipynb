{
  "nbformat": 4,
  "nbformat_minor": 0,
  "metadata": {
    "colab": {
      "provenance": []
    },
    "kernelspec": {
      "name": "python3",
      "display_name": "Python 3"
    },
    "language_info": {
      "name": "python"
    }
  },
  "cells": [
    {
      "cell_type": "code",
      "execution_count": 1,
      "metadata": {
        "colab": {
          "base_uri": "https://localhost:8080/"
        },
        "id": "TU5ypC4044Mq",
        "outputId": "d1231e96-a27d-4e1c-a65a-17746355451c"
      },
      "outputs": [
        {
          "output_type": "stream",
          "name": "stdout",
          "text": [
            "Requirement already satisfied: pyspark in /usr/local/lib/python3.11/dist-packages (3.5.1)\n",
            "Requirement already satisfied: py4j==0.10.9.7 in /usr/local/lib/python3.11/dist-packages (from pyspark) (0.10.9.7)\n"
          ]
        }
      ],
      "source": [
        "! pip install pyspark"
      ]
    },
    {
      "cell_type": "code",
      "source": [
        "import pyspark\n",
        "from pyspark.sql import SparkSession\n",
        "\n",
        "spark = SparkSession.builder.appName(\"Retail_Analytics\").getOrCreate()\n",
        "spark\n"
      ],
      "metadata": {
        "colab": {
          "base_uri": "https://localhost:8080/",
          "height": 219
        },
        "id": "pOXQf14xAFq0",
        "outputId": "b1d89557-bcb6-47d0-a9c0-1e5226878cd9"
      },
      "execution_count": 3,
      "outputs": [
        {
          "output_type": "execute_result",
          "data": {
            "text/plain": [
              "<pyspark.sql.session.SparkSession at 0x79cfb6d3b0d0>"
            ],
            "text/html": [
              "\n",
              "            <div>\n",
              "                <p><b>SparkSession - in-memory</b></p>\n",
              "                \n",
              "        <div>\n",
              "            <p><b>SparkContext</b></p>\n",
              "\n",
              "            <p><a href=\"http://7d596a70c69e:4040\">Spark UI</a></p>\n",
              "\n",
              "            <dl>\n",
              "              <dt>Version</dt>\n",
              "                <dd><code>v3.5.1</code></dd>\n",
              "              <dt>Master</dt>\n",
              "                <dd><code>local[*]</code></dd>\n",
              "              <dt>AppName</dt>\n",
              "                <dd><code>Retail_Analytics</code></dd>\n",
              "            </dl>\n",
              "        </div>\n",
              "        \n",
              "            </div>\n",
              "        "
            ]
          },
          "metadata": {},
          "execution_count": 3
        }
      ]
    },
    {
      "cell_type": "code",
      "source": [
        "df = spark.read.csv(\"retail_branch_data.csv\",header = \"True\", inferSchema=True)"
      ],
      "metadata": {
        "id": "Vtnm8vA_Asz2"
      },
      "execution_count": 4,
      "outputs": []
    },
    {
      "cell_type": "code",
      "source": [
        "df.show()"
      ],
      "metadata": {
        "colab": {
          "base_uri": "https://localhost:8080/"
        },
        "id": "pnwdk6FtBVYN",
        "outputId": "5f479c86-8340-42c2-da88-9b130199f5ab"
      },
      "execution_count": 7,
      "outputs": [
        {
          "output_type": "stream",
          "name": "stdout",
          "text": [
            "+---------+----------+------------+----------+-------+------+---------+\n",
            "|Branch_ID|      Date|Product_Code|Units_Sold|Revenue|Region|Sales_Rep|\n",
            "+---------+----------+------------+----------+-------+------+---------+\n",
            "|    BR039|2024-09-05|       P0147|         2|2017.07| South|   EMP053|\n",
            "|    BR029|2024-03-24|       P0126|        10|1648.49|  West|   EMP068|\n",
            "|    BR015|2024-01-30|       P0135|        11|1086.13| North|   EMP016|\n",
            "|    BR043|2024-10-25|       P0187|         7|2252.32|  East|   EMP053|\n",
            "|    BR008|2024-03-23|       P0153|        14|4041.01|  West|   EMP034|\n",
            "|    BR021|2025-03-13|       P0119|        13|2175.59| South|   EMP001|\n",
            "|    BR039|2025-07-23|       P0102|         1|4350.95|  East|   EMP086|\n",
            "|    BR019|2023-09-15|       P0168|         9|4690.48| South|   EMP064|\n",
            "|    BR023|2025-01-20|       P0102|         3|1362.29|  West|   EMP025|\n",
            "|    BR011|2023-09-05|       P0139|         5|4957.49| South|   EMP056|\n",
            "|    BR011|2023-12-21|       P0159|         8|2135.44|  East|   EMP005|\n",
            "|    BR024|2025-03-24|       P0169|        14| 916.97| South|   EMP029|\n",
            "|    BR036|2024-12-19|       P0178|        18|2283.55|  East|   EMP077|\n",
            "|    BR040|2024-06-23|       P0169|         5| 310.78| North|   EMP061|\n",
            "|    BR024|2024-10-04|       P0122|         9|  972.3|  West|   EMP035|\n",
            "|    BR003|2025-04-24|       P0159|        18|3660.85| North|   EMP003|\n",
            "|    BR022|2024-09-15|       P0129|        12| 981.79|  East|   EMP011|\n",
            "|    BR002|2025-01-29|       P0138|         2|4902.25| North|   EMP009|\n",
            "|    BR024|2025-05-12|       P0139|         4|1317.49| South|   EMP039|\n",
            "|    BR044|2024-03-07|       P0147|         4|4352.67|  West|   EMP080|\n",
            "+---------+----------+------------+----------+-------+------+---------+\n",
            "only showing top 20 rows\n",
            "\n"
          ]
        }
      ]
    },
    {
      "cell_type": "code",
      "source": [
        "df.printSchema()"
      ],
      "metadata": {
        "colab": {
          "base_uri": "https://localhost:8080/"
        },
        "id": "r49_uGYSBgXK",
        "outputId": "810ef798-4c13-4785-e49c-d396a065bb6b"
      },
      "execution_count": 8,
      "outputs": [
        {
          "output_type": "stream",
          "name": "stdout",
          "text": [
            "root\n",
            " |-- Branch_ID: string (nullable = true)\n",
            " |-- Date: date (nullable = true)\n",
            " |-- Product_Code: string (nullable = true)\n",
            " |-- Units_Sold: integer (nullable = true)\n",
            " |-- Revenue: double (nullable = true)\n",
            " |-- Region: string (nullable = true)\n",
            " |-- Sales_Rep: string (nullable = true)\n",
            "\n"
          ]
        }
      ]
    },
    {
      "cell_type": "code",
      "source": [
        "df.describe().show()"
      ],
      "metadata": {
        "colab": {
          "base_uri": "https://localhost:8080/"
        },
        "id": "noHJ10GkB40x",
        "outputId": "e9eb3db6-2b7d-41dd-d475-8fcfa449c181"
      },
      "execution_count": 9,
      "outputs": [
        {
          "output_type": "stream",
          "name": "stdout",
          "text": [
            "+-------+---------+------------+----------------+------------------+------+---------+\n",
            "|summary|Branch_ID|Product_Code|      Units_Sold|           Revenue|Region|Sales_Rep|\n",
            "+-------+---------+------------+----------------+------------------+------+---------+\n",
            "|  count|   100000|      100000|          100000|            100000|100000|   100000|\n",
            "|   mean|     NULL|        NULL|        10.00928| 2550.708197099985|  NULL|     NULL|\n",
            "| stddev|     NULL|        NULL|5.48479121853764|1416.4793404750278|  NULL|     NULL|\n",
            "|    min|    BR001|       P0100|               1|            100.04|  East|   EMP001|\n",
            "|    max|    BR050|       P0199|              19|            5000.0|  West|   EMP100|\n",
            "+-------+---------+------------+----------------+------------------+------+---------+\n",
            "\n"
          ]
        }
      ]
    },
    {
      "cell_type": "code",
      "source": [
        "from pyspark.sql.functions import col, sum\n",
        "\n",
        "df.select([sum(col(c).isNull().cast(\"int\")).alias(c) for c in df.columns]).show()"
      ],
      "metadata": {
        "colab": {
          "base_uri": "https://localhost:8080/"
        },
        "id": "CZm2PhHOCSiW",
        "outputId": "ef27dc31-ba25-414e-e9fe-f3d307c48a74"
      },
      "execution_count": 10,
      "outputs": [
        {
          "output_type": "stream",
          "name": "stdout",
          "text": [
            "+---------+----+------------+----------+-------+------+---------+\n",
            "|Branch_ID|Date|Product_Code|Units_Sold|Revenue|Region|Sales_Rep|\n",
            "+---------+----+------------+----------+-------+------+---------+\n",
            "|        0|   0|           0|         0|      0|     0|        0|\n",
            "+---------+----+------------+----------+-------+------+---------+\n",
            "\n"
          ]
        }
      ]
    },
    {
      "cell_type": "markdown",
      "source": [
        "**Total_Revenue_per_Region**"
      ],
      "metadata": {
        "id": "vwjiUZI5Cu6y"
      }
    },
    {
      "cell_type": "code",
      "source": [
        "from pyspark.sql.functions import round, format_number\n",
        "\n",
        "df.groupby(\"Region\").agg(format_number(sum(\"Revenue\"), 2).alias(\"Total_Revenue\")).show()"
      ],
      "metadata": {
        "colab": {
          "base_uri": "https://localhost:8080/"
        },
        "id": "fN1lkxP0CouO",
        "outputId": "bc764dd1-eddd-4bf4-adde-3598ffc0ca62"
      },
      "execution_count": 19,
      "outputs": [
        {
          "output_type": "stream",
          "name": "stdout",
          "text": [
            "+------+-------------+\n",
            "|Region|Total_Revenue|\n",
            "+------+-------------+\n",
            "| South|64,306,711.62|\n",
            "|  East|63,811,532.87|\n",
            "|  West|63,526,274.90|\n",
            "| North|63,426,300.32|\n",
            "+------+-------------+\n",
            "\n"
          ]
        }
      ]
    },
    {
      "cell_type": "markdown",
      "source": [
        "**Total_Revenue per Branch**"
      ],
      "metadata": {
        "id": "6tbwTa_vE1Xa"
      }
    },
    {
      "cell_type": "code",
      "source": [
        "df.groupby(\"Branch_ID\").agg(format_number(sum(\"Revenue\"),2).alias(\"Total_Revenue\")).show()"
      ],
      "metadata": {
        "colab": {
          "base_uri": "https://localhost:8080/"
        },
        "id": "x3klNqdHDVqH",
        "outputId": "0c27b136-b392-4dd3-c5ee-53f18961525d"
      },
      "execution_count": 21,
      "outputs": [
        {
          "output_type": "stream",
          "name": "stdout",
          "text": [
            "+---------+-------------+\n",
            "|Branch_ID|Total_Revenue|\n",
            "+---------+-------------+\n",
            "|    BR005| 5,190,403.22|\n",
            "|    BR010| 5,137,137.45|\n",
            "|    BR019| 5,092,556.24|\n",
            "|    BR016| 5,148,827.36|\n",
            "|    BR026| 5,313,660.89|\n",
            "|    BR006| 4,982,640.40|\n",
            "|    BR035| 4,833,181.45|\n",
            "|    BR017| 5,180,958.04|\n",
            "|    BR011| 4,959,252.37|\n",
            "|    BR039| 5,099,512.89|\n",
            "|    BR009| 5,040,178.95|\n",
            "|    BR040| 5,220,159.44|\n",
            "|    BR044| 5,283,920.98|\n",
            "|    BR045| 5,232,125.15|\n",
            "|    BR028| 5,221,197.90|\n",
            "|    BR032| 5,188,976.47|\n",
            "|    BR023| 5,283,568.42|\n",
            "|    BR022| 5,175,854.82|\n",
            "|    BR050| 4,904,164.29|\n",
            "|    BR046| 4,809,359.15|\n",
            "+---------+-------------+\n",
            "only showing top 20 rows\n",
            "\n"
          ]
        }
      ]
    },
    {
      "cell_type": "markdown",
      "source": [
        "**Monthly_Revenue_Trend**"
      ],
      "metadata": {
        "id": "-kmC-oDPFPUU"
      }
    },
    {
      "cell_type": "code",
      "source": [
        "from pyspark.sql.functions import year, month, date_format\n",
        "\n",
        "df_monthly = df.withColumn(\"Year\", year(\"Date\")).withColumn(\"Month_Name\", date_format(\"Date\", \"MMMM\"))\n",
        "\n",
        "df_monthly.groupby(\"Year\",\"Month_Name\").agg(format_number(sum(\"Revenue\"),2).alias(\"Total_Revenue\")).orderBy(\"Year\",\"Month_Name\").show(30)"
      ],
      "metadata": {
        "colab": {
          "base_uri": "https://localhost:8080/"
        },
        "id": "eEpYLcjZFEtE",
        "outputId": "aacca356-885b-437e-c98c-7c04893fcf7d"
      },
      "execution_count": 28,
      "outputs": [
        {
          "output_type": "stream",
          "name": "stdout",
          "text": [
            "+----+----------+-------------+\n",
            "|Year|Month_Name|Total_Revenue|\n",
            "+----+----------+-------------+\n",
            "|2023|    August|10,746,548.88|\n",
            "|2023|  December|10,843,034.06|\n",
            "|2023|  November|10,406,573.56|\n",
            "|2023|   October|10,719,660.13|\n",
            "|2023| September|10,583,149.03|\n",
            "|2024|     April|10,347,969.17|\n",
            "|2024|    August|10,425,800.28|\n",
            "|2024|  December|10,921,976.18|\n",
            "|2024|  February|10,119,670.71|\n",
            "|2024|   January|10,824,057.82|\n",
            "|2024|      July|10,499,686.61|\n",
            "|2024|      June|10,501,777.53|\n",
            "|2024|     March|10,786,021.43|\n",
            "|2024|       May|10,600,625.53|\n",
            "|2024|  November|10,421,786.52|\n",
            "|2024|   October|10,854,866.38|\n",
            "|2024| September|10,836,442.41|\n",
            "|2025|     April|10,505,078.16|\n",
            "|2025|  February| 9,853,139.83|\n",
            "|2025|   January|11,032,333.17|\n",
            "|2025|      July|11,072,290.78|\n",
            "|2025|      June|10,562,641.34|\n",
            "|2025|     March|10,945,456.60|\n",
            "|2025|       May|10,660,233.60|\n",
            "+----+----------+-------------+\n",
            "\n"
          ]
        }
      ]
    },
    {
      "cell_type": "markdown",
      "source": [
        "**Avg_Revenue_per_Transaction**"
      ],
      "metadata": {
        "id": "cWdm_14aHfyo"
      }
    },
    {
      "cell_type": "code",
      "source": [
        "df.selectExpr(\"avg(Revenue) as Avg_Revenue_per_Transaction\").show()"
      ],
      "metadata": {
        "colab": {
          "base_uri": "https://localhost:8080/"
        },
        "id": "LTb4hNEkGMKK",
        "outputId": "589263c6-c5ec-4e5a-913f-0756515eb1d8"
      },
      "execution_count": 29,
      "outputs": [
        {
          "output_type": "stream",
          "name": "stdout",
          "text": [
            "+---------------------------+\n",
            "|Avg_Revenue_per_Transaction|\n",
            "+---------------------------+\n",
            "|          2550.708197099985|\n",
            "+---------------------------+\n",
            "\n"
          ]
        }
      ]
    },
    {
      "cell_type": "markdown",
      "source": [
        "**Units Sold Per Product**"
      ],
      "metadata": {
        "id": "L3G7LgyBH083"
      }
    },
    {
      "cell_type": "code",
      "source": [
        "df.groupby(\"Product_Code\").agg(sum(\"Units_Sold\").alias(\"Units_Sold\")).orderBy(\"Units_Sold\", ascending = False).show()"
      ],
      "metadata": {
        "colab": {
          "base_uri": "https://localhost:8080/"
        },
        "id": "2zDCtAR0HxK6",
        "outputId": "79939bc9-27c9-47ba-f614-8f1962b12cf9"
      },
      "execution_count": 31,
      "outputs": [
        {
          "output_type": "stream",
          "name": "stdout",
          "text": [
            "+------------+----------+\n",
            "|Product_Code|Units_Sold|\n",
            "+------------+----------+\n",
            "|       P0186|     10836|\n",
            "|       P0164|     10780|\n",
            "|       P0179|     10772|\n",
            "|       P0168|     10631|\n",
            "|       P0180|     10573|\n",
            "|       P0161|     10571|\n",
            "|       P0173|     10555|\n",
            "|       P0138|     10525|\n",
            "|       P0155|     10515|\n",
            "|       P0157|     10489|\n",
            "|       P0122|     10470|\n",
            "|       P0121|     10463|\n",
            "|       P0174|     10448|\n",
            "|       P0125|     10427|\n",
            "|       P0165|     10401|\n",
            "|       P0183|     10398|\n",
            "|       P0100|     10397|\n",
            "|       P0110|     10396|\n",
            "|       P0171|     10395|\n",
            "|       P0111|     10367|\n",
            "+------------+----------+\n",
            "only showing top 20 rows\n",
            "\n"
          ]
        }
      ]
    },
    {
      "cell_type": "markdown",
      "source": [
        "**Avg Units Sold Per Branch**"
      ],
      "metadata": {
        "id": "Qv6FE9f0I5aK"
      }
    },
    {
      "cell_type": "code",
      "source": [
        "from pyspark.sql.functions import avg\n",
        "\n",
        "df.groupby(\"Branch_ID\").agg(format_number(avg(\"Units_Sold\"),2).alias(\"Avg_Units_Sold_Per_Branch\")).show()"
      ],
      "metadata": {
        "colab": {
          "base_uri": "https://localhost:8080/"
        },
        "id": "8XawTmh5InTm",
        "outputId": "7cf7049e-692a-4d0d-e620-aa09e394f350"
      },
      "execution_count": 34,
      "outputs": [
        {
          "output_type": "stream",
          "name": "stdout",
          "text": [
            "+---------+-------------------------+\n",
            "|Branch_ID|Avg_Units_Sold_Per_Branch|\n",
            "+---------+-------------------------+\n",
            "|    BR005|                    10.08|\n",
            "|    BR010|                     9.93|\n",
            "|    BR019|                    10.01|\n",
            "|    BR016|                    10.03|\n",
            "|    BR026|                    10.00|\n",
            "|    BR006|                     9.91|\n",
            "|    BR035|                    10.10|\n",
            "|    BR017|                     9.83|\n",
            "|    BR011|                     9.94|\n",
            "|    BR039|                    10.18|\n",
            "|    BR009|                     9.99|\n",
            "|    BR040|                    10.11|\n",
            "|    BR044|                    10.10|\n",
            "|    BR045|                     9.93|\n",
            "|    BR028|                    10.12|\n",
            "|    BR032|                     9.95|\n",
            "|    BR023|                    10.14|\n",
            "|    BR022|                    10.15|\n",
            "|    BR050|                    10.04|\n",
            "|    BR046|                     9.95|\n",
            "+---------+-------------------------+\n",
            "only showing top 20 rows\n",
            "\n"
          ]
        }
      ]
    },
    {
      "cell_type": "markdown",
      "source": [
        "**Revenue per sales Person**"
      ],
      "metadata": {
        "id": "iXFAAxMbKW8M"
      }
    },
    {
      "cell_type": "code",
      "source": [
        "df.groupby(\"Sales_Rep\").agg(format_number(sum(\"Revenue\"),2).alias(\"Total_Revenue\")).show()"
      ],
      "metadata": {
        "colab": {
          "base_uri": "https://localhost:8080/"
        },
        "id": "q696X1zcJNWo",
        "outputId": "e4f5d2f3-c255-48b4-8ba2-682ff648b463"
      },
      "execution_count": 35,
      "outputs": [
        {
          "output_type": "stream",
          "name": "stdout",
          "text": [
            "+---------+-------------+\n",
            "|Sales_Rep|Total_Revenue|\n",
            "+---------+-------------+\n",
            "|   EMP090| 2,479,692.65|\n",
            "|   EMP094| 2,543,452.51|\n",
            "|   EMP068| 2,667,427.58|\n",
            "|   EMP006| 2,481,787.21|\n",
            "|   EMP095| 2,544,010.20|\n",
            "|   EMP033| 2,613,227.11|\n",
            "|   EMP053| 2,601,034.25|\n",
            "|   EMP007| 2,514,245.20|\n",
            "|   EMP093| 2,532,965.39|\n",
            "|   EMP080| 2,605,243.86|\n",
            "|   EMP097| 2,732,067.80|\n",
            "|   EMP048| 2,674,832.80|\n",
            "|   EMP086| 2,668,508.77|\n",
            "|   EMP028| 2,577,901.56|\n",
            "|   EMP072| 2,642,922.74|\n",
            "|   EMP085| 2,587,358.53|\n",
            "|   EMP064| 2,525,073.86|\n",
            "|   EMP061| 2,426,396.03|\n",
            "|   EMP052| 2,666,803.11|\n",
            "|   EMP044| 2,708,933.47|\n",
            "+---------+-------------+\n",
            "only showing top 20 rows\n",
            "\n"
          ]
        }
      ]
    },
    {
      "cell_type": "markdown",
      "source": [
        "**Number of Transactions Per Day**"
      ],
      "metadata": {
        "id": "DL85JwDUKu1F"
      }
    },
    {
      "cell_type": "code",
      "source": [
        "df.groupby(\"Date\").count().withColumnRenamed(\"count\", \"Transactions\").withColumn(\"Day_Name\", date_format(\"Date\", \"EEEE\")).orderBy(\"Transactions\", ascending = False).show()"
      ],
      "metadata": {
        "colab": {
          "base_uri": "https://localhost:8080/"
        },
        "id": "rujSJHhOKpin",
        "outputId": "219331bd-a951-453a-b19d-801fea97cb1d"
      },
      "execution_count": 40,
      "outputs": [
        {
          "output_type": "stream",
          "name": "stdout",
          "text": [
            "+----------+------------+---------+\n",
            "|      Date|Transactions| Day_Name|\n",
            "+----------+------------+---------+\n",
            "|2024-12-12|         178| Thursday|\n",
            "|2025-03-09|         172|   Sunday|\n",
            "|2023-11-09|         170| Thursday|\n",
            "|2024-05-17|         167|   Friday|\n",
            "|2024-05-15|         166|Wednesday|\n",
            "|2023-12-21|         166| Thursday|\n",
            "|2024-07-08|         165|   Monday|\n",
            "|2025-07-13|         165|   Sunday|\n",
            "|2025-01-17|         164|   Friday|\n",
            "|2024-06-16|         164|   Sunday|\n",
            "|2024-02-17|         163| Saturday|\n",
            "|2024-11-27|         163|Wednesday|\n",
            "|2025-07-05|         162| Saturday|\n",
            "|2025-03-23|         162|   Sunday|\n",
            "|2025-01-02|         162| Thursday|\n",
            "|2024-02-03|         161| Saturday|\n",
            "|2024-11-14|         161| Thursday|\n",
            "|2024-10-09|         161|Wednesday|\n",
            "|2025-03-04|         161|  Tuesday|\n",
            "|2025-06-10|         161|  Tuesday|\n",
            "+----------+------------+---------+\n",
            "only showing top 20 rows\n",
            "\n"
          ]
        }
      ]
    },
    {
      "cell_type": "markdown",
      "source": [
        "**Top 5 Branches by Revenue**"
      ],
      "metadata": {
        "id": "vBe2xt0NMFVd"
      }
    },
    {
      "cell_type": "code",
      "source": [
        "from pyspark.sql.window import Window\n",
        "from pyspark.sql.functions import rank, row_number\n",
        "\n",
        "windowSpec = Window.orderBy(col(\"Branch_Revenue\").desc())\n",
        "top_branches = df.groupBy(\"Branch_ID\").agg(round(sum(\"Revenue\"),2).alias(\"Branch_Revenue\"))\n",
        "top_branches = top_branches.withColumn(\"rank\", rank().over(windowSpec)).filter(col(\"rank\") <= 5)\n",
        "top_branches.show()"
      ],
      "metadata": {
        "colab": {
          "base_uri": "https://localhost:8080/"
        },
        "id": "rSQkgN72LO5L",
        "outputId": "fd4d6e13-8e1b-41de-c5f9-13230fcb8f47"
      },
      "execution_count": 47,
      "outputs": [
        {
          "output_type": "stream",
          "name": "stdout",
          "text": [
            "+---------+--------------+----+\n",
            "|Branch_ID|Branch_Revenue|rank|\n",
            "+---------+--------------+----+\n",
            "|    BR030|    5316296.78|   1|\n",
            "|    BR026|    5313660.89|   2|\n",
            "|    BR021|    5307638.82|   3|\n",
            "|    BR044|    5283920.98|   4|\n",
            "|    BR023|    5283568.42|   5|\n",
            "+---------+--------------+----+\n",
            "\n"
          ]
        }
      ]
    },
    {
      "cell_type": "markdown",
      "source": [
        "**Top 5 Sales Persons by Avg Revenue per Transaction**"
      ],
      "metadata": {
        "id": "VCAtRSBFNPVW"
      }
    },
    {
      "cell_type": "code",
      "source": [
        "df.groupby(\"Sales_Rep\").agg(round(avg(\"Revenue\"),2).alias(\"Avg_Revenue\")).orderBy(\"Avg_Revenue\", ascending = False).limit(5).show()"
      ],
      "metadata": {
        "colab": {
          "base_uri": "https://localhost:8080/"
        },
        "id": "kW5CpGQsMw_p",
        "outputId": "e2fed98a-114f-429c-d536-368bd66caa5c"
      },
      "execution_count": 46,
      "outputs": [
        {
          "output_type": "stream",
          "name": "stdout",
          "text": [
            "+---------+-----------+\n",
            "|Sales_Rep|Avg_Revenue|\n",
            "+---------+-----------+\n",
            "|   EMP048|    2664.18|\n",
            "|   EMP064|    2633.03|\n",
            "|   EMP014|    2630.31|\n",
            "|   EMP031|    2629.82|\n",
            "|   EMP096|    2619.24|\n",
            "+---------+-----------+\n",
            "\n"
          ]
        }
      ]
    },
    {
      "cell_type": "markdown",
      "source": [
        "**Peak Sales Day Per Region**"
      ],
      "metadata": {
        "id": "Gno_PId0OTDz"
      }
    },
    {
      "cell_type": "code",
      "source": [
        "df_peak = df.groupby(\"Region\", \"Date\").agg(sum(\"Revenue\").alias(\"Total_Day_Revenue\"))\n",
        "\n",
        "w = Window.partitionBy(\"Region\").orderBy(col(\"Total_Day_Revenue\").desc())\n",
        "df_peak.withColumn(\"row_num\", row_number().over(w)).filter(\"row_num = 1\").show()"
      ],
      "metadata": {
        "colab": {
          "base_uri": "https://localhost:8080/"
        },
        "id": "Y_U4Lj-POMBM",
        "outputId": "48d205e4-016e-4bd4-8dd9-da294b16d588"
      },
      "execution_count": 48,
      "outputs": [
        {
          "output_type": "stream",
          "name": "stdout",
          "text": [
            "+------+----------+-----------------+-------+\n",
            "|Region|      Date|Total_Day_Revenue|row_num|\n",
            "+------+----------+-----------------+-------+\n",
            "|  East|2024-07-10|        138624.01|      1|\n",
            "| North|2025-01-17|        139474.38|      1|\n",
            "| South|2025-07-17|         139550.1|      1|\n",
            "|  West|2024-10-09|        137192.14|      1|\n",
            "+------+----------+-----------------+-------+\n",
            "\n"
          ]
        }
      ]
    },
    {
      "cell_type": "markdown",
      "source": [
        "**Avg Basket Size (Units Sold / Transaction)**"
      ],
      "metadata": {
        "id": "jMJNtpJ0PhLb"
      }
    },
    {
      "cell_type": "code",
      "source": [
        "df.selectExpr(\"avg(Units_Sold) as Avg_Basket_Size\").show()\n"
      ],
      "metadata": {
        "colab": {
          "base_uri": "https://localhost:8080/"
        },
        "id": "KQfrmn7eO3Uh",
        "outputId": "19b793b6-3d1d-440b-ca0f-5583f9d28743"
      },
      "execution_count": 49,
      "outputs": [
        {
          "output_type": "stream",
          "name": "stdout",
          "text": [
            "+---------------+\n",
            "|Avg_Basket_Size|\n",
            "+---------------+\n",
            "|       10.00928|\n",
            "+---------------+\n",
            "\n"
          ]
        }
      ]
    },
    {
      "cell_type": "markdown",
      "source": [
        "**Revenue Variance across Regions**"
      ],
      "metadata": {
        "id": "2BCjPiTUPl9Q"
      }
    },
    {
      "cell_type": "code",
      "source": [
        "df.groupBy(\"Region\").agg({\"Revenue\": \"stddev\"}).show()\n"
      ],
      "metadata": {
        "colab": {
          "base_uri": "https://localhost:8080/"
        },
        "id": "6n2ApE2sPjuL",
        "outputId": "7d23a105-1202-40b2-f6aa-a9250d11931e"
      },
      "execution_count": 50,
      "outputs": [
        {
          "output_type": "stream",
          "name": "stdout",
          "text": [
            "+------+------------------+\n",
            "|Region|   stddev(Revenue)|\n",
            "+------+------------------+\n",
            "| South| 1415.745596464133|\n",
            "|  East|1416.2519790942724|\n",
            "|  West|1416.9975994153594|\n",
            "| North| 1416.945604033818|\n",
            "+------+------------------+\n",
            "\n"
          ]
        }
      ]
    },
    {
      "cell_type": "markdown",
      "source": [
        "# **Visualization**"
      ],
      "metadata": {
        "id": "Qdz9cndePzW-"
      }
    },
    {
      "cell_type": "code",
      "source": [
        "# In PySpark we can't directly plot, but we can export to Pandas:"
      ],
      "metadata": {
        "id": "tLHKyrqRPvj4"
      },
      "execution_count": 51,
      "outputs": []
    },
    {
      "cell_type": "markdown",
      "source": [
        "**Monthly Revenue Trend (Line Chart)**"
      ],
      "metadata": {
        "id": "N44yxBfeRxbH"
      }
    },
    {
      "cell_type": "code",
      "source": [
        "from pyspark.sql.functions import year, month, date_format\n",
        "import pandas as pd\n",
        "import matplotlib.pyplot as plt\n",
        "\n",
        "# Add Year and Month columns\n",
        "df_monthly = df.withColumn(\"Year\", year(\"Date\")) \\\n",
        "               .withColumn(\"Month\", month(\"Date\")) \\\n",
        "               .withColumn(\"Month_Name\", date_format(\"Date\", \"MMMM\"))\n",
        "\n",
        "# Group and convert to Pandas\n",
        "monthly_df = df_monthly.groupBy(\"Year\", \"Month\") \\\n",
        "                       .sum(\"Revenue\") \\\n",
        "                       .toPandas()\n",
        "\n",
        "# Create date column for plotting\n",
        "monthly_df['Date'] = pd.to_datetime(monthly_df['Year'].astype(str) + '-' + monthly_df['Month'].astype(str))\n",
        "monthly_df = monthly_df.sort_values('Date')\n",
        "\n",
        "# Plot\n",
        "plt.figure(figsize=(10, 5))\n",
        "plt.plot(monthly_df['Date'], monthly_df['sum(Revenue)'], marker='o')\n",
        "plt.xlabel('Month')\n",
        "plt.ylabel('Revenue')\n",
        "plt.title('Monthly Revenue Trend')\n",
        "plt.xticks(rotation=45)\n",
        "plt.grid(True)\n",
        "plt.tight_layout()\n",
        "plt.show()\n"
      ],
      "metadata": {
        "colab": {
          "base_uri": "https://localhost:8080/",
          "height": 336
        },
        "id": "yZ1QFmp9QDOg",
        "outputId": "4e709a10-97d7-410d-93a7-ce5cfa52e478"
      },
      "execution_count": 53,
      "outputs": [
        {
          "output_type": "display_data",
          "data": {
            "text/plain": [
              "<Figure size 1000x500 with 1 Axes>"
            ],
            "image/png": "[encoded data removed]"
          },
          "metadata": {}
        }
      ]
    },
    {
      "cell_type": "markdown",
      "source": [
        "**Top 10 Branches by Total Revenue (Bar Chart)**"
      ],
      "metadata": {
        "id": "zxHqFzESR1rV"
      }
    },
    {
      "cell_type": "code",
      "source": [
        "top_branch_df = df.groupBy(\"Branch_ID\").sum(\"Revenue\")\\\n",
        "    .withColumnRenamed(\"sum(Revenue)\", \"Total_Revenue\").orderBy(\"Total_Revenue\", ascending=False).limit(10).toPandas()\n",
        "\n",
        "top_branch_df.plot(kind='bar', x='Branch_ID', y='Total_Revenue', figsize=(10,5), legend=False)\n",
        "plt.title(\"Top 10 Branches by Revenue\")\n",
        "plt.ylabel(\"Total Revenue\")\n",
        "plt.xticks(rotation=45)\n",
        "plt.grid(True, axis='y')\n",
        "plt.tight_layout()\n",
        "plt.show()\n"
      ],
      "metadata": {
        "colab": {
          "base_uri": "https://localhost:8080/",
          "height": 336
        },
        "id": "uTinFApTQHcP",
        "outputId": "9bd3c6dd-c84d-43ed-d28e-c0f74e60d4c7"
      },
      "execution_count": 54,
      "outputs": [
        {
          "output_type": "display_data",
          "data": {
            "text/plain": [
              "<Figure size 1000x500 with 1 Axes>"
            ],
            "image/png": "[encoded data removed]"
          },
          "metadata": {}
        }
      ]
    },
    {
      "cell_type": "markdown",
      "source": [
        "**Top 10 Sales Persons by Revenue (Horizontal Bar Chart)**"
      ],
      "metadata": {
        "id": "wU_qVES6R8NR"
      }
    },
    {
      "cell_type": "code",
      "source": [
        "top_reps_df = df.groupBy(\"Sales_Rep\").sum(\"Revenue\")\\\n",
        "    .withColumnRenamed(\"sum(Revenue)\", \"Total_Revenue\").orderBy(\"Total_Revenue\", ascending=False).limit(10).toPandas()\n",
        "\n",
        "top_reps_df.sort_values(\"Total_Revenue\").plot(kind='barh', x='Sales_Rep', y='Total_Revenue', figsize=(8,6), legend=False)\n",
        "plt.title(\"Top 10 Sales Persons by Revenue\")\n",
        "plt.xlabel(\"Revenue\")\n",
        "plt.grid(True, axis='x')\n",
        "plt.tight_layout()\n",
        "plt.show()\n"
      ],
      "metadata": {
        "colab": {
          "base_uri": "https://localhost:8080/",
          "height": 498
        },
        "id": "L2WVh7lMR5GG",
        "outputId": "6497c86b-b099-4ccb-9c3b-161a057e024e"
      },
      "execution_count": 56,
      "outputs": [
        {
          "output_type": "display_data",
          "data": {
            "text/plain": [
              "<Figure size 800x600 with 1 Axes>"
            ],
            "image/png": "[encoded data removed]"
          },
          "metadata": {}
        }
      ]
    },
    {
      "cell_type": "markdown",
      "source": [
        "** Revenue by Region (Pie Chart)**"
      ],
      "metadata": {
        "id": "LM7spjglSHBb"
      }
    },
    {
      "cell_type": "code",
      "source": [
        "region_df = df.groupBy(\"Region\").sum(\"Revenue\").withColumnRenamed(\"sum(Revenue)\", \"Total_Revenue\").toPandas()\n",
        "\n",
        "plt.figure(figsize=(6,6))\n",
        "plt.pie(region_df['Total_Revenue'], labels=region_df['Region'], autopct='%1.1f%%', startangle=140)\n",
        "plt.title(\"Revenue Distribution by Region\")\n",
        "plt.tight_layout()\n",
        "plt.show()\n"
      ],
      "metadata": {
        "colab": {
          "base_uri": "https://localhost:8080/",
          "height": 607
        },
        "id": "vGm41FtVSAZs",
        "outputId": "530baf67-44ac-4480-a2de-c8998e7aeb72"
      },
      "execution_count": 57,
      "outputs": [
        {
          "output_type": "display_data",
          "data": {
            "text/plain": [
              "<Figure size 600x600 with 1 Axes>"
            ],
            "image/png": "[encoded data removed]"
          },
          "metadata": {}
        }
      ]
    },
    {
      "cell_type": "code",
      "source": [],
      "metadata": {
        "id": "THIZhI8rSJXP"
      },
      "execution_count": null,
      "outputs": []
    }
  ]
}